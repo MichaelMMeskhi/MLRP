{
 "cells": [
  {
   "cell_type": "code",
   "execution_count": 2,
   "metadata": {
    "collapsed": false
   },
   "outputs": [
    {
     "name": "stderr",
     "output_type": "stream",
     "text": [
      "Using TensorFlow backend.\n"
     ]
    }
   ],
   "source": [
    "# %load PCA.py\n",
    "%matplotlib inline\n",
    "import pandas as pd\n",
    "import numpy as np\n",
    "import re\n",
    "import os\n",
    "import PyPDF2\n",
    "from nltk.stem.snowball import SnowballStemmer\n",
    "from nltk.corpus import stopwords\n",
    "from sklearn.feature_extraction.text import CountVectorizer, TfidfTransformer\n",
    "from sklearn.cluster import KMeans\n",
    "import matplotlib.pyplot as plt\n",
    "from mpl_toolkits.mplot3d import Axes3D\n",
    "from gensim.models.word2vec import Word2Vec\n",
    "\n"
   ]
  },
  {
   "cell_type": "code",
   "execution_count": 3,
   "metadata": {
    "collapsed": false,
    "scrolled": true
   },
   "outputs": [],
   "source": [
    "stemmer=SnowballStemmer(\"english\")\n",
    "stop = set(stopwords.words('english'))\n",
    "def pdf_to_text(pdf):\n",
    "\n",
    "    pdfReader = PyPDF2.PdfFileReader(pdf)\n",
    "    numPage=pdfReader.numPages\n",
    "    pdftext=\" \"\n",
    "    for page in range(numPage):\n",
    "        pageObj =pdfReader.getPage(page)\n",
    "        text= pageObj.extractText()\n",
    "        pagetext=\"\".join(text)\n",
    "        pdftext=\" \".join([pagetext, pdftext])\n",
    "    alltext = re.sub('[\\n]', '', pdftext)\n",
    "    all_words=alltext.split(\" \")\n",
    "    for i in range(len(all_words)):\n",
    "        all_words[i]= re.sub('[^A-Za-z0-9]+', '', all_words[i])\n",
    "    affterstemmer=[]\n",
    "    for word in all_words:\n",
    "        affterstemmer.append(stemmer.stem(word))\n",
    "    \n",
    "    afterstop=[]\n",
    "    for word in affterstemmer:\n",
    "        if word not in stop:\n",
    "            afterstop.append(word)\n",
    "    return \" \".join(afterstop)\n",
    "THIS_FOLDER = os.path.dirname(os.path.abspath(\"Word2Vec.ipynb\"))\n",
    "\n",
    "\n",
    "## Geting ready the training data\n",
    "data = pd.read_csv('resumes.csv')\n",
    "\n",
    "\n"
   ]
  },
  {
   "cell_type": "code",
   "execution_count": 4,
   "metadata": {
    "collapsed": false
   },
   "outputs": [
    {
     "name": "stderr",
     "output_type": "stream",
     "text": [
      "PdfReadWarning: Xref table not zero-indexed. ID numbers for objects will be corrected. [pdf.py:1736]\n",
      "PdfReadWarning: Superfluous whitespace found in object header b'1' b'0' [pdf.py:1666]\n",
      "PdfReadWarning: Superfluous whitespace found in object header b'2' b'0' [pdf.py:1666]\n",
      "PdfReadWarning: Superfluous whitespace found in object header b'3' b'0' [pdf.py:1666]\n",
      "PdfReadWarning: Superfluous whitespace found in object header b'36' b'0' [pdf.py:1666]\n",
      "PdfReadWarning: Superfluous whitespace found in object header b'44' b'0' [pdf.py:1666]\n"
     ]
    }
   ],
   "source": [
    "X_train=[]\n",
    "for i in data['path']:\n",
    "    my_file = os.path.join(THIS_FOLDER, i)\n",
    "    pdf = open(my_file, 'rb')\n",
    "    X_train.append(pdf_to_text(pdf))\n",
    "\n"
   ]
  },
  {
   "cell_type": "code",
   "execution_count": 5,
   "metadata": {
    "collapsed": true
   },
   "outputs": [],
   "source": [
    "word2vec = {}"
   ]
  },
  {
   "cell_type": "code",
   "execution_count": 6,
   "metadata": {
    "collapsed": false
   },
   "outputs": [],
   "source": [
    "x_by_words=[]\n",
    "for i in X_train:\n",
    "    x_by_words.append(i.split())"
   ]
  },
  {
   "cell_type": "code",
   "execution_count": 20,
   "metadata": {
    "collapsed": true
   },
   "outputs": [],
   "source": [
    "s = 1000\n",
    "\n",
    "model = Word2Vec(x_by_words, size=s, min_count=5, workers=10)\n",
    "w2v = {w: vec for w, vec in zip(model.wv.index2word, model.wv.syn0)}\n",
    "vocab = model.wv.index2word\n",
    "train_w2v = []\n",
    "for i in x_by_words:\n",
    "    ar =[0 for i in range(s)]\n",
    "    for j in i:\n",
    "        if j in vocab:\n",
    "            ar+=w2v[j]\n",
    "    train_w2v.append(ar)"
   ]
  },
  {
   "cell_type": "code",
   "execution_count": null,
   "metadata": {
    "collapsed": false
   },
   "outputs": [],
   "source": []
  },
  {
   "cell_type": "code",
   "execution_count": null,
   "metadata": {
    "collapsed": false
   },
   "outputs": [],
   "source": []
  },
  {
   "cell_type": "code",
   "execution_count": 21,
   "metadata": {
    "collapsed": true
   },
   "outputs": [],
   "source": [
    "from sklearn.model_selection import train_test_split\n",
    "\n",
    "x_train, x_test, y_train, y_test = train_test_split(train_w2v, data['succes'], test_size = .001, random_state = 32)"
   ]
  },
  {
   "cell_type": "code",
   "execution_count": 11,
   "metadata": {
    "collapsed": true
   },
   "outputs": [],
   "source": [
    "from sklearn.naive_bayes import GaussianNB\n",
    "from sklearn.linear_model import SGDClassifier\n",
    "from sklearn.linear_model import LogisticRegression\n",
    "from sklearn.tree import DecisionTreeClassifier\n",
    "from sklearn.ensemble import RandomForestClassifier\n",
    "from sklearn.ensemble import GradientBoostingClassifier\n",
    "from sklearn.ensemble import AdaBoostClassifier\n",
    "from sklearn.cross_validation import cross_val_score"
   ]
  },
  {
   "cell_type": "code",
   "execution_count": 12,
   "metadata": {
    "collapsed": false
   },
   "outputs": [
    {
     "name": "stdout",
     "output_type": "stream",
     "text": [
      "0.746811261976\n",
      "0.81581731617\n",
      "0.934285546347\n",
      "0.875036736613\n",
      "0.887527185094\n",
      "0.899988244284\n",
      "0.896843590196\n"
     ]
    }
   ],
   "source": [
    "clfs=[GaussianNB(),SGDClassifier(),LogisticRegression(),\n",
    "      DecisionTreeClassifier(),RandomForestClassifier(),\n",
    "      GradientBoostingClassifier(),AdaBoostClassifier()]\n",
    "for c in clfs:\n",
    "    clf = c.fit(x_train,y_train)\n",
    "    print(np.mean(cross_val_score(clf, train_w2v, data['succes'], cv=3)))\n",
    "\n"
   ]
  },
  {
   "cell_type": "code",
   "execution_count": 13,
   "metadata": {
    "collapsed": false
   },
   "outputs": [
    {
     "name": "stdout",
     "output_type": "stream",
     "text": [
      "[ 0.92307692  0.96875     0.90625     0.96825397  0.92063492]\n",
      "0.937393162393\n"
     ]
    }
   ],
   "source": [
    "\n",
    "clf = LogisticRegression()\n",
    "cvs = cross_val_score(clf, x_train, y_train, cv=5)\n",
    "print(cvs)\n",
    "print(np.mean(cvs))"
   ]
  },
  {
   "cell_type": "code",
   "execution_count": 15,
   "metadata": {
    "collapsed": false
   },
   "outputs": [
    {
     "name": "stdout",
     "output_type": "stream",
     "text": [
      "0.824927996238\n",
      "0.943719508611\n",
      "0.909363427967\n",
      "0.549697290307\n"
     ]
    }
   ],
   "source": [
    "\n",
    "from sklearn.svm import SVC\n",
    "cvf_rbf= SVC(kernel = 'rbf', C= 1e3)\n",
    "cvf_linear= SVC(kernel = 'linear', C= 1e3)\n",
    "cvf_poly= SVC(kernel = 'poly', C= 1e3) \n",
    "cvf_sigmoid= SVC(kernel = 'sigmoid', C= 1e3) \n",
    "\n",
    "svc_clf= [cvf_rbf,cvf_linear,cvf_poly,cvf_sigmoid]\n",
    "\n",
    "for c in svc_clf:\n",
    "    clf = c.fit(x_train,y_train)\n",
    "    print(np.mean(cross_val_score(clf, train_w2v, data['succes'], cv=3)))\n",
    "\n",
    "\n",
    "\n"
   ]
  },
  {
   "cell_type": "code",
   "execution_count": 22,
   "metadata": {
    "collapsed": false
   },
   "outputs": [
    {
     "name": "stdout",
     "output_type": "stream",
     "text": [
      "[ 0.92307692  0.953125    0.921875    0.93650794  0.9047619 ]\n",
      "0.927869352869\n"
     ]
    }
   ],
   "source": [
    "clf = SVC(kernel = 'linear', C= 1e3)\n",
    "cvs = cross_val_score(clf, x_train, y_train, cv=5)\n",
    "print(cvs)\n",
    "print(np.mean(cvs))"
   ]
  },
  {
   "cell_type": "code",
   "execution_count": 23,
   "metadata": {
    "collapsed": false
   },
   "outputs": [
    {
     "ename": "SyntaxError",
     "evalue": "invalid character in identifier (<ipython-input-23-6df232250e2f>, line 4)",
     "output_type": "error",
     "traceback": [
      "\u001b[0;36m  File \u001b[0;32m\"<ipython-input-23-6df232250e2f>\"\u001b[0;36m, line \u001b[0;32m4\u001b[0m\n\u001b[0;31m    clf = GridSearchCV(svc,params,scoring=‘accuracy’)\u001b[0m\n\u001b[0m                                                   ^\u001b[0m\n\u001b[0;31mSyntaxError\u001b[0m\u001b[0;31m:\u001b[0m invalid character in identifier\n"
     ]
    }
   ],
   "source": [
    "from sklearn.model_selection import GridSearchCV\n",
    "svc = SVC(kernel = 'linear', C= 1e3)\n",
    "params = {'C': [1, 10, 100, 1000], 'kernel': ['linear']}\n",
    "clf = GridSearchCV(svc,params,scoring='accuracy')\n",
    "clf.fit(x_train,y_train)"
   ]
  },
  {
   "cell_type": "code",
   "execution_count": 42,
   "metadata": {
    "collapsed": false
   },
   "outputs": [],
   "source": [
    "from sklearn.model_selection import train_test_split\n",
    "\n",
    "x_train, x_test, y_train, y_test = train_test_split(train_w2v, data['succes'], test_size = .001, random_state = 32)"
   ]
  },
  {
   "cell_type": "code",
   "execution_count": 43,
   "metadata": {
    "collapsed": false
   },
   "outputs": [],
   "source": [
    "from sklearn.model_selection import learning_curve\n",
    "from sklearn.svm import SVC\n",
    "\n",
    "train_sizes, train_scores, test_scores = learning_curve(\n",
    "    SVC(kernel='linear'), x_train, y_train, train_sizes=[0.1 ,0.2 ,0.3 ,0.4 ,0.5 ,0.6 ,0.7 ,0.8 ,0.9 , 1.], cv=5)\n",
    "         \n"
   ]
  },
  {
   "cell_type": "code",
   "execution_count": 44,
   "metadata": {
    "collapsed": false
   },
   "outputs": [
    {
     "data": {
      "image/png": "[encoded data removed]",
      "text/plain": [
       "<matplotlib.figure.Figure at 0x125e020f0>"
      ]
     },
     "metadata": {},
     "output_type": "display_data"
    }
   ],
   "source": [
    "\n",
    "plt.xlabel(\"Training examples\")\n",
    "plt.ylabel(\"Score\")\n",
    "train_scores_mean = np.mean(train_scores, axis=1)\n",
    "train_scores_std = np.std(train_scores, axis=1)\n",
    "test_scores_mean = np.mean(test_scores, axis=1)\n",
    "test_scores_std = np.std(test_scores, axis=1)\n",
    "plt.grid()\n",
    "\n",
    "plt.fill_between(train_sizes, train_scores_mean - train_scores_std,\n",
    "                 train_scores_mean + train_scores_std, alpha=0.1,\n",
    "                 color=\"r\")\n",
    "plt.fill_between(train_sizes, test_scores_mean - test_scores_std,\n",
    "                 test_scores_mean + test_scores_std, alpha=0.1, color=\"g\")\n",
    "plt.plot(train_sizes, train_scores_mean, 'o-', color=\"r\",\n",
    "         label=\"Training score\")\n",
    "plt.plot(train_sizes, test_scores_mean, 'o-', color=\"g\",\n",
    "         label=\"Cross-validation score\")\n",
    "\n",
    "plt.legend(loc=\"best\")\n",
    "plt.show()"
   ]
  },
  {
   "cell_type": "code",
   "execution_count": null,
   "metadata": {
    "collapsed": true
   },
   "outputs": [],
   "source": []
  }
 ],
 "metadata": {
  "kernelspec": {
   "display_name": "Python 3",
   "language": "python",
   "name": "python3"
  },
  "language_info": {
   "codemirror_mode": {
    "name": "ipython",
    "version": 3
   },
   "file_extension": ".py",
   "mimetype": "text/x-python",
   "name": "python",
   "nbconvert_exporter": "python",
   "pygments_lexer": "ipython3",
   "version": "3.6.0"
  }
 },
 "nbformat": 4,
 "nbformat_minor": 2
}
