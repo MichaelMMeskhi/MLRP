{
 "cells": [
  {
   "cell_type": "code",
   "execution_count": 1,
   "metadata": {
    "collapsed": false
   },
   "outputs": [
    {
     "name": "stderr",
     "output_type": "stream",
     "text": [
      "Using TensorFlow backend.\n"
     ]
    }
   ],
   "source": [
    "# %load PCA.py\n",
    "%matplotlib inline\n",
    "import pandas as pd\n",
    "import numpy as np\n",
    "import re\n",
    "import os\n",
    "import PyPDF2\n",
    "from nltk.stem.snowball import SnowballStemmer\n",
    "from nltk.corpus import stopwords\n",
    "from sklearn.feature_extraction.text import CountVectorizer, TfidfTransformer\n",
    "from sklearn.cluster import KMeans\n",
    "import matplotlib.pyplot as plt\n",
    "from mpl_toolkits.mplot3d import Axes3D\n",
    "from gensim.models.word2vec import Word2Vec\n",
    "\n"
   ]
  },
  {
   "cell_type": "code",
   "execution_count": 3,
   "metadata": {
    "collapsed": false,
    "scrolled": true
   },
   "outputs": [],
   "source": [
    "stemmer=SnowballStemmer(\"english\")\n",
    "def pdf_to_text(pdf):\n",
    "\n",
    "    pdfReader = PyPDF2.PdfFileReader(pdf)\n",
    "    numPage=pdfReader.numPages\n",
    "    pdftext=\" \"\n",
    "    for page in range(numPage):\n",
    "        pageObj =pdfReader.getPage(page)\n",
    "        text= pageObj.extractText()\n",
    "        pagetext=\"\".join(text)\n",
    "        pdftext=\" \".join([pagetext, pdftext])\n",
    "    alltext = re.sub('[\\n]', '', pdftext)\n",
    "    all_words=alltext.split(\" \")\n",
    "    affterstemmer=[]\n",
    "    for word in all_words:\n",
    "        affterstemmer.append(stemmer.stem(word))\n",
    "    stop = set(stopwords.words('english'))\n",
    "    afterstop=[]\n",
    "    for word in affterstemmer:\n",
    "        if word not in stop:\n",
    "            afterstop.append(word)\n",
    "    return \" \".join(afterstop)\n",
    "THIS_FOLDER = os.path.dirname(os.path.abspath(\"Word2Vec.ipynb\"))\n",
    "\n",
    "\n",
    "## Geting ready the training data\n",
    "data = pd.read_csv('resumes.csv')\n",
    "\n",
    "\n"
   ]
  },
  {
   "cell_type": "code",
   "execution_count": 5,
   "metadata": {
    "collapsed": false
   },
   "outputs": [
    {
     "name": "stderr",
     "output_type": "stream",
     "text": [
      "PdfReadWarning: Xref table not zero-indexed. ID numbers for objects will be corrected. [pdf.py:1736]\n",
      "PdfReadWarning: Superfluous whitespace found in object header b'1' b'0' [pdf.py:1666]\n",
      "PdfReadWarning: Superfluous whitespace found in object header b'2' b'0' [pdf.py:1666]\n",
      "PdfReadWarning: Superfluous whitespace found in object header b'3' b'0' [pdf.py:1666]\n",
      "PdfReadWarning: Superfluous whitespace found in object header b'36' b'0' [pdf.py:1666]\n",
      "PdfReadWarning: Superfluous whitespace found in object header b'44' b'0' [pdf.py:1666]\n"
     ]
    }
   ],
   "source": [
    "X_train=[]\n",
    "for i in data['path']:\n",
    "    my_file = os.path.join(THIS_FOLDER, i)\n",
    "    pdf = open(my_file, 'rb')\n",
    "    X_train.append(pdf_to_text(pdf))\n",
    "\n"
   ]
  },
  {
   "cell_type": "code",
   "execution_count": null,
   "metadata": {
    "collapsed": true
   },
   "outputs": [],
   "source": [
    "word2vec = {}"
   ]
  },
  {
   "cell_type": "code",
   "execution_count": 49,
   "metadata": {
    "collapsed": false
   },
   "outputs": [],
   "source": [
    "x_by_words=[]\n",
    "for i in X_train:\n",
    "    x_by_words.append(i.split())"
   ]
  },
  {
   "cell_type": "code",
   "execution_count": 187,
   "metadata": {
    "collapsed": true
   },
   "outputs": [],
   "source": [
    "s = 500\n",
    "\n",
    "model = Word2Vec(x_by_words, size=s, min_count=5, workers=10)\n",
    "w2v = {w: vec for w, vec in zip(model.wv.index2word, model.wv.syn0)}\n",
    "vocab = model.wv.index2word\n",
    "train_w2v = []\n",
    "for i in x_by_words:\n",
    "    ar =[0 for i in range(s)]\n",
    "    for j in i:\n",
    "        if j in vocab:\n",
    "            ar+=w2v[j]\n",
    "    train_w2v.append(ar)"
   ]
  },
  {
   "cell_type": "code",
   "execution_count": null,
   "metadata": {
    "collapsed": false
   },
   "outputs": [],
   "source": []
  },
  {
   "cell_type": "code",
   "execution_count": null,
   "metadata": {
    "collapsed": false
   },
   "outputs": [],
   "source": []
  },
  {
   "cell_type": "code",
   "execution_count": 188,
   "metadata": {
    "collapsed": true
   },
   "outputs": [],
   "source": [
    "from sklearn.model_selection import train_test_split\n",
    "\n",
    "x_train, x_test, y_train, y_test = train_test_split(train_w2v, data['succes'], test_size = .001, random_state = 32)"
   ]
  },
  {
   "cell_type": "code",
   "execution_count": 189,
   "metadata": {
    "collapsed": true
   },
   "outputs": [],
   "source": [
    "from sklearn.naive_bayes import GaussianNB\n",
    "from sklearn.linear_model import SGDClassifier\n",
    "from sklearn.linear_model import LogisticRegression\n",
    "from sklearn.tree import DecisionTreeClassifier\n",
    "from sklearn.ensemble import RandomForestClassifier\n",
    "from sklearn.ensemble import GradientBoostingClassifier\n",
    "from sklearn.ensemble import AdaBoostClassifier"
   ]
  },
  {
   "cell_type": "code",
   "execution_count": 190,
   "metadata": {
    "collapsed": false
   },
   "outputs": [
    {
     "name": "stdout",
     "output_type": "stream",
     "text": [
      "0.737406689003\n",
      "0.731381884441\n",
      "0.940486686651\n",
      "0.849908893199\n",
      "0.871833303944\n",
      "0.893640157527\n",
      "0.903074119791\n"
     ]
    }
   ],
   "source": [
    "clfs=[GaussianNB(),SGDClassifier(),LogisticRegression(),\n",
    "      DecisionTreeClassifier(),RandomForestClassifier(),\n",
    "      GradientBoostingClassifier(),AdaBoostClassifier()]\n",
    "for c in clfs:\n",
    "    clf = c.fit(x_train,y_train)\n",
    "    print(np.mean(cross_val_score(clf, train_w2v, data['succes'], cv=3)))\n",
    "\n"
   ]
  },
  {
   "cell_type": "code",
   "execution_count": 191,
   "metadata": {
    "collapsed": false
   },
   "outputs": [
    {
     "name": "stdout",
     "output_type": "stream",
     "text": [
      "[ 0.92307692  0.96875     0.90625     0.95238095  0.92063492]\n",
      "0.934218559219\n"
     ]
    }
   ],
   "source": [
    "\n",
    "clf = LogisticRegression()\n",
    "cvs = cross_val_score(clf, x_train, y_train, cv=5)\n",
    "print(cvs)\n",
    "print(np.mean(cvs))"
   ]
  },
  {
   "cell_type": "code",
   "execution_count": null,
   "metadata": {
    "collapsed": true
   },
   "outputs": [],
   "source": []
  }
 ],
 "metadata": {
  "kernelspec": {
   "display_name": "Python 3",
   "language": "python",
   "name": "python3"
  },
  "language_info": {
   "codemirror_mode": {
    "name": "ipython",
    "version": 3
   },
   "file_extension": ".py",
   "mimetype": "text/x-python",
   "name": "python",
   "nbconvert_exporter": "python",
   "pygments_lexer": "ipython3",
   "version": "3.6.0"
  }
 },
 "nbformat": 4,
 "nbformat_minor": 2
}
