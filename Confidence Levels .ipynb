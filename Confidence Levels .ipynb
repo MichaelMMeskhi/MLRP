{
 "cells": [
  {
   "cell_type": "code",
   "execution_count": 26,
   "metadata": {
    "collapsed": false
   },
   "outputs": [],
   "source": [
    "# %load PCA.py\n",
    "%matplotlib inline\n",
    "import pandas as pd\n",
    "import numpy as np\n",
    "import re\n",
    "import os\n",
    "import PyPDF2\n",
    "from nltk.stem.snowball import SnowballStemmer\n",
    "from nltk.corpus import stopwords\n",
    "from sklearn.feature_extraction.text import CountVectorizer, TfidfTransformer\n",
    "from sklearn.cluster import KMeans\n",
    "import matplotlib.pyplot as plt\n",
    "from mpl_toolkits.mplot3d import Axes3D\n"
   ]
  },
  {
   "cell_type": "code",
   "execution_count": 32,
   "metadata": {
    "collapsed": false
   },
   "outputs": [
    {
     "name": "stderr",
     "output_type": "stream",
     "text": [
      "PdfReadWarning: Xref table not zero-indexed. ID numbers for objects will be corrected. [pdf.py:1736]\n",
      "PdfReadWarning: Superfluous whitespace found in object header b'1' b'0' [pdf.py:1666]\n",
      "PdfReadWarning: Superfluous whitespace found in object header b'2' b'0' [pdf.py:1666]\n",
      "PdfReadWarning: Superfluous whitespace found in object header b'3' b'0' [pdf.py:1666]\n",
      "PdfReadWarning: Superfluous whitespace found in object header b'36' b'0' [pdf.py:1666]\n",
      "PdfReadWarning: Superfluous whitespace found in object header b'44' b'0' [pdf.py:1666]\n"
     ]
    }
   ],
   "source": [
    "stemmer=SnowballStemmer(\"english\")\n",
    "stop = set(stopwords.words('english'))\n",
    "def pdf_to_text(pdf):\n",
    "\n",
    "    pdfReader = PyPDF2.PdfFileReader(pdf)\n",
    "    numPage=pdfReader.numPages\n",
    "    pdftext=\" \"\n",
    "    for page in range(numPage):\n",
    "        pageObj =pdfReader.getPage(page)\n",
    "        text= pageObj.extractText()\n",
    "        pagetext=\"\".join(text)\n",
    "        pdftext=\" \".join([pagetext, pdftext])\n",
    "    alltext = re.sub('[\\n]', '', pdftext)\n",
    "    all_words=alltext.split(\" \")\n",
    "    for i in range(len(all_words)):\n",
    "        all_words[i]= re.sub('[^A-Za-z0-9]+', '', all_words[i])\n",
    "    affterstemmer=[]\n",
    "    for word in all_words:\n",
    "        affterstemmer.append(stemmer.stem(word))\n",
    "    \n",
    "    afterstop=[]\n",
    "    for word in affterstemmer:\n",
    "        if word not in stop:\n",
    "            afterstop.append(word)\n",
    "    return \" \".join(afterstop)\n",
    "THIS_FOLDER = os.path.dirname(os.path.abspath(\"PCA.ipynb\"))\n",
    "\n",
    "\n",
    "\n",
    "## Geting ready the training data\n",
    "data=pd.read_csv('resumes.csv')\n",
    "X_train=[]\n",
    "for i in data['path']:\n",
    "    my_file = os.path.join(THIS_FOLDER, i)\n",
    "    pdf = open(my_file, 'rb')\n",
    "    X_train.append(pdf_to_text(pdf))\n",
    "\n",
    "\n"
   ]
  },
  {
   "cell_type": "code",
   "execution_count": 41,
   "metadata": {
    "collapsed": true
   },
   "outputs": [],
   "source": [
    "\n",
    "count_vect = CountVectorizer(lowercase = False, max_df= 0.4)\n",
    "tfidf_transformer = TfidfTransformer(smooth_idf=False)\n",
    "X_train_counts = count_vect.fit_transform(X_train)\n",
    "X_train_tfidf = tfidf_transformer.fit_transform(X_train_counts)\n",
    "\n"
   ]
  },
  {
   "cell_type": "code",
   "execution_count": 42,
   "metadata": {
    "collapsed": true
   },
   "outputs": [],
   "source": [
    "from sklearn.model_selection import train_test_split\n",
    "\n",
    "x_train, x_test, y_train, y_test = train_test_split(X_train_tfidf, data['succes'], test_size = .2, random_state = 32)"
   ]
  },
  {
   "cell_type": "code",
   "execution_count": 43,
   "metadata": {
    "collapsed": false
   },
   "outputs": [],
   "source": [
    "\n",
    "from sklearn.svm import SVC\n",
    "cvf_rbf= SVC(kernel = 'rbf', C= 1e3).fit(x_train,y_train)\n",
    "cvf_linear= SVC(kernel = 'linear', C= 1e3).fit(x_train,y_train)\n",
    "cvf_poly= SVC(kernel = 'poly', C= 1e3).fit(x_train,y_train)\n",
    "cvf_sigmoid= SVC(kernel = 'sigmoid', C= 1e3).fit(x_train,y_train)\n",
    "\n",
    "pred_rbf = cvf_rbf.predict(x_test)\n",
    "pred_linear= cvf_linear.predict(x_test)\n",
    "pred_poly= cvf_poly.predict(x_test)\n",
    "pred_sigmoid= cvf_sigmoid.predict(x_test)\n",
    "\n",
    "\n"
   ]
  },
  {
   "cell_type": "code",
   "execution_count": 44,
   "metadata": {
    "collapsed": false
   },
   "outputs": [
    {
     "name": "stdout",
     "output_type": "stream",
     "text": [
      "rbf: 0.578125\n",
      "linear: 0.859375\n",
      "poly: 0.578125\n",
      "sigmoid: 0.578125\n"
     ]
    }
   ],
   "source": [
    "from sklearn.metrics import accuracy_score\n",
    "\n",
    "\n",
    "print ('rbf:', accuracy_score(y_test, pred_rbf))\n",
    "print ('linear:', accuracy_score(y_test, pred_linear))\n",
    "print ('poly:', accuracy_score(y_test, pred_poly))\n",
    "print ('sigmoid:', accuracy_score(y_test, pred_sigmoid))"
   ]
  },
  {
   "cell_type": "code",
   "execution_count": 37,
   "metadata": {
    "collapsed": false
   },
   "outputs": [
    {
     "data": {
      "text/plain": [
       "array([[ 0.18838081,  0.81161919],\n",
       "       [ 0.18838081,  0.81161919],\n",
       "       [ 0.09982625,  0.90017375],\n",
       "       [ 0.57386572,  0.42613428],\n",
       "       [ 0.67978848,  0.32021152],\n",
       "       [ 0.41380135,  0.58619865],\n",
       "       [ 0.83802891,  0.16197109],\n",
       "       [ 0.88013892,  0.11986108],\n",
       "       [ 0.18838081,  0.81161919],\n",
       "       [ 0.80170751,  0.19829249],\n",
       "       [ 0.81551782,  0.18448218],\n",
       "       [ 0.60041616,  0.39958384],\n",
       "       [ 0.63296361,  0.36703639],\n",
       "       [ 0.37953895,  0.62046105],\n",
       "       [ 0.7577134 ,  0.2422866 ],\n",
       "       [ 0.86988162,  0.13011838],\n",
       "       [ 0.31102603,  0.68897397],\n",
       "       [ 0.44013699,  0.55986301],\n",
       "       [ 0.82444153,  0.17555847],\n",
       "       [ 0.46020342,  0.53979658],\n",
       "       [ 0.86969384,  0.13030616],\n",
       "       [ 0.59455445,  0.40544555],\n",
       "       [ 0.05212613,  0.94787387],\n",
       "       [ 0.6101641 ,  0.3898359 ],\n",
       "       [ 0.07123211,  0.92876789],\n",
       "       [ 0.18838081,  0.81161919],\n",
       "       [ 0.15473584,  0.84526416],\n",
       "       [ 0.18838081,  0.81161919],\n",
       "       [ 0.15082619,  0.84917381],\n",
       "       [ 0.91400866,  0.08599134],\n",
       "       [ 0.50829155,  0.49170845],\n",
       "       [ 0.18838081,  0.81161919],\n",
       "       [ 0.05302978,  0.94697022],\n",
       "       [ 0.72389673,  0.27610327],\n",
       "       [ 0.90027513,  0.09972487],\n",
       "       [ 0.61056477,  0.38943523],\n",
       "       [ 0.69541441,  0.30458559],\n",
       "       [ 0.05148441,  0.94851559],\n",
       "       [ 0.13655997,  0.86344003],\n",
       "       [ 0.61587708,  0.38412292],\n",
       "       [ 0.2303888 ,  0.7696112 ],\n",
       "       [ 0.73440241,  0.26559759],\n",
       "       [ 0.18838081,  0.81161919],\n",
       "       [ 0.89940737,  0.10059263],\n",
       "       [ 0.18838081,  0.81161919],\n",
       "       [ 0.91143647,  0.08856353],\n",
       "       [ 0.18838081,  0.81161919],\n",
       "       [ 0.87220631,  0.12779369],\n",
       "       [ 0.09925968,  0.90074032],\n",
       "       [ 0.81882631,  0.18117369],\n",
       "       [ 0.71349528,  0.28650472],\n",
       "       [ 0.36038076,  0.63961924],\n",
       "       [ 0.89298102,  0.10701898],\n",
       "       [ 0.78477213,  0.21522787],\n",
       "       [ 0.83071199,  0.16928801],\n",
       "       [ 0.30936874,  0.69063126],\n",
       "       [ 0.14902658,  0.85097342],\n",
       "       [ 0.18838081,  0.81161919],\n",
       "       [ 0.07290026,  0.92709974],\n",
       "       [ 0.08588343,  0.91411657],\n",
       "       [ 0.18838081,  0.81161919],\n",
       "       [ 0.16490598,  0.83509402],\n",
       "       [ 0.18838081,  0.81161919],\n",
       "       [ 0.82096221,  0.17903779]])"
      ]
     },
     "execution_count": 37,
     "metadata": {},
     "output_type": "execute_result"
    }
   ],
   "source": [
    "clf.predict_proba(x_test)"
   ]
  },
  {
   "cell_type": "code",
   "execution_count": 12,
   "metadata": {
    "collapsed": false
   },
   "outputs": [
    {
     "data": {
      "text/plain": [
       "'thisisaastesdasdadasdasdasaAsadasdasd'"
      ]
     },
     "execution_count": 12,
     "metadata": {},
     "output_type": "execute_result"
    }
   ],
   "source": [
    "\n",
    "s= \"this is a aste'sdasd' adasd! . . asdas .. a@>< > A.< ,./ . ??? !! sadasdasd \" \n",
    "\n",
    "re.sub('[^A-Za-z0-9]+', '', s)"
   ]
  },
  {
   "cell_type": "code",
   "execution_count": 23,
   "metadata": {
    "collapsed": true
   },
   "outputs": [],
   "source": [
    "stemmer=SnowballStemmer(\"english\")\n",
    "stop = set(stopwords.words('english'))\n",
    "def pdf_to_text(pdf):\n",
    "\n",
    "    pdfReader = PyPDF2.PdfFileReader(pdf)\n",
    "    numPage=pdfReader.numPages\n",
    "    pdftext=\" \"\n",
    "    for page in range(numPage):\n",
    "        pageObj =pdfReader.getPage(page)\n",
    "        text= pageObj.extractText()\n",
    "        pagetext=\"\".join(text)\n",
    "        pdftext=\" \".join([pagetext, pdftext])\n",
    "    alltext = re.sub('[\\n]', '', pdftext)\n",
    "    all_words=alltext.split(\" \")\n",
    "    for i in range(len(all_words)):\n",
    "        all_words[i]= re.sub('[^A-Za-z]+', '', all_words[i])\n",
    "    affterstemmer=[]\n",
    "    for word in all_words:\n",
    "        affterstemmer.append(stemmer.stem(word))\n",
    "    \n",
    "    afterstop=[]\n",
    "    for word in affterstemmer:\n",
    "        if word not in stop:\n",
    "            afterstop.append(word)\n",
    "    return \" \".join(afterstop)\n",
    "THIS_FOLDER = os.path.dirname(os.path.abspath(\"PCA.ipynb\"))\n",
    "\n"
   ]
  },
  {
   "cell_type": "code",
   "execution_count": 24,
   "metadata": {
    "collapsed": false
   },
   "outputs": [],
   "source": [
    "\n",
    "## Geting ready the training data\n",
    "data=pd.read_csv('resumes.csv')\n",
    "X_train=[]\n",
    "for i in data['path'][:5]:\n",
    "    my_file = os.path.join(THIS_FOLDER, i)\n",
    "    pdf = open(my_file, 'rb')\n",
    "    X_train.append(pdf_to_text(pdf))\n",
    "\n",
    "\n",
    "\n",
    "\n"
   ]
  },
  {
   "cell_type": "code",
   "execution_count": 25,
   "metadata": {
    "collapsed": false
   },
   "outputs": [
    {
     "data": {
      "text/plain": [
       "[' creat demonstr earthquak simul disast prepar  execut san mateocounti creat custom physic vizard virtual realiti softwar toolkit creat custom graphic blender comput graphic softwar construct virtual model citi wrote algorithm move virtual limb base hand gestur  particip studi stanforddepart ofpsycholog lead new research field inbodi cognitioneducationmast virtual realiti comput visionstanford univers  stanford caseptemb  presentstanford  santiago de chile regin metropolitanaseptemb  decemb london school econom  londonjuli  august skillsedit skill technic skill unreal engin uniti python java c c docker vizard blender androidgit matlab rubi assembl web applic develop skill meteor rubi rail html cssjavascript sql coffeescript blaze semant ui less  year javascript  yearslinkshttpswwwlinkedincominabhigarg abhi gargsoftwar engineerstanford caemail inde indeedcomrabhigargabcdafwork experiencesoftwar engineerqualia lab  san francisco cajun  septemb  creat imag process softwar autom part newcustom onboard flow save  minutesp custom enhanc product scalabl develop algorithm insid docker microservic allow customdocu templatingoculus virtual realiti senior projectvirtu realiti content creatorjanuari  june  use unreal engin creat therapeut vr game focus social skill build children autism conduct market research user test rapid prototyp built anim integr hardwaresuch razorhydra creat immers vr experi design need user showcas product atconfer francesumm busi analystmckinsey  compani  new york nyjun  august  advis financi servic client determin need technolog capabl improv digit customerjourney part  billion custom acquisit strategi cut overhead spend  engin manufactur factori creat analyt base onhistor inventorydata better predict quantiti order new suppli coach execut process leverag overhead spend data extract daili insight optimizepurchasingforward deploy engineerpalantir technolog  palo alto cajuli  septemb creat interfac allow simultan view multipl realtim video  camera system usingproprietysoftwar frontend web languag streamlin function interfac across varieti video format cross browser compatibilityrequir deploy product client machin train  law enforc agent interfac workflow andbest practic present interfac group  nation secur analyst result expans deploymentof project law enforc agenc across countryvirtu realiti developerstanford virtual human interact lab  stanford caseptemb  june   ',\n",
       " ' print hardcopymicrofich servic  assist sarexpressdeliveri mobiusinfopacrd system convers project implementedonlin view report use rdseducationbachelor scienc busi inform systemsunivers phoenix  phoenix azaddit informationkey skillsarea experi includ network meter evid tool administr  support applicationresourc tuam meter tool administr  support scriptingprogram autom web develop call center applic develop  support product control job schedul code promotionchang manag filedatasoftwar transmissiondistribut qualiti assur engin test function test code deploy dri run test urban code deploy ucd urban code releas ucr infospher administr infospher datastagequalitystag infospher chang data captur cdc administr gacdw applic administr db administr webspher applic server admininstr controlm schedul  administr report distribut tool administr infoman chang manag function control migrat new enhancedsoftwar endeavor schedul batch job opcesa perform softwareconfigur manag function use endeavorsenior distribut operatorhom save america maintain rds databas handl report distribut chang defin set distribut new productionreport databas archiv hardcopi distributionadminist rds user access train new user provid support onlin view needssenior data control analyst  comhom save america generat product microfich output util mvs tsoispf sdsf jes anddatagraph microfic machin develop datagraph com program use printingmicrofich output assist night shift comput oper pull tape cartridg tape vault andmount onto tape drive neededjunior data control analyst  spool operatorhom save america perform spool print function product develop output util mvstsoispf sdsf jes respons print product report includingsav check loan statement payrol check interest check w  various specialform oper ibm  laser printer datagraph  laserprint ibm  impact printer moor decollatorbursterstap clerkdata control deliv computergener report programm busi client pull tape reel tape vault anddeliv comput oper assist comput oper mount tape reel onto tape drivesachiev support homerun fastfund project establish chang control process design code implement product accept system pass systemautom record updat view isd mainfram programm test script design code implement pvcs version compar system system providedcompon version control report current generat pvcs product design code implement reprint track system system enabl faster moreaccur track reprint inform design code implement check control system system autom balanc processof print check save one hour process per day design code implement printer meter read system system autom recordingand calcul process printer meter read conduct seri basic infrastructur base workstat test standard window nt workstat imagesproduc system engin servic andoper desktop support team respons manag qa test labachiev design code implement qa tech support problem track system system use tolog track problem qa test environ batch onlin process system alsoprovid problem track ani problem encount qa test requir qa technic supportand assistancecal center applic tech support specialistinform manag associ incapril  march analyz troubleshoot problem complex natur relat hardwar softwar ani third partyproduct reproduc problem purpos determin caus solut work softwareengin group elimin bug identifi client defin test tabl oracleinformixsybasedatabas use reproduc client problem popul oracleinformixsybas test tabl testdata use sql command perform oracleinformixsybas queri use sqlcommand dure reproduct client problem success complet edgedevelop advanc edg develop edg system administr classessr product control analysthom save america  irwindal caapril  april unit state americacal center applic programmerhom save america respons program maintenanceadministr call centerappl edgegeo  window base applic run unixaixplatform perform unixaix administr server applic runsdevelop shell script autom administr task ie backup file maintenancesystem mainten etc creat cron job unixaix autom execut shell script developcal center applic program accommod new businessrequir modifi exist program satisfi client busi need resolvecli issu relat applic unixaix serverspc lan analysthom save america respons analyz client pc hardwaresoftwarelan requirementsrespons recommend effici cost effect hardwar softwar order makingsur conform compani hardwaresoftwar standardspclan senior product control analysthom save america perform softwaredata distribut retail branch use ndmconnect directperform softwaredata distribut lend branch use netview distributionmanag nvdm perform campus file transfer use netview distribut managernvdm tcpipftp os copi command troubleshoot resolvesoftwaredata transmiss problem use netview tcpip ndm nvdm oscommand unixaix command etc support daili product control function use provid umi applic support assist gtim support team global deploy team inimpl umiilwc product environ assign success howev month ilwc offer decommissionedsenior product control analystfranklin templeton groupnovemb  april part controlm distribut jobev schedul convers project team convert job thatwer schedul unix cron window nt task schedul controlm schedul respons foradminist controlm  enterpris controlst ec  controlm enterpris manag job  eventschedul product particip problem manag post mortem applic monitor focusteam assist daili product support franklintempleton applic support understand applicationprocess scenario window deadlin escal procedur call  x  collabor withcommand center oper problem resolut correct action maintain prerequisit productionrequir product chang manag polici maintain applic runbook monitor andmaintain file transfer process tier   tier  support provid consult regard file transfer techniquesand tool monitor new schedul chang analyz implic exist applic process structuredevelop maintain perlrexx script product control depart develop maintainincid report web site global operationsachiev design code implement web site frontend form applic databas structur theinform technolog product system downtim applic autom store track andreport product system outag data whole inform technolog organ newappl data store one central databas microsoft sql server  data view byuser via web browser configur implement web server ii intercompani product control group use design code implement script autom old manual process oper use toperform whenev receiv new dxr cds psi vendor script perform follow determin new font file first cd set cds automat copi new font file cd appropri serverpath directori automat insert new font filenam dxr configur file design code implement script read lotus note format data file containschang manag request inform format format import excelspreadsheet script need manual input data lotus note excel spreadsheethad elimin  time save  hour per weekqual assur engineerautomat data process adpmarch  novemb manag migrat applic develop environ qa environ use mvschangeman softwar set test environ tester test set jcls procstroubleshoot resolv issu encount dure execut test batch job assist tester withproblem relat tochangeman packag util rexx languag developmaintain util automatemanu task involv qa technic support group maintain qa technic supportproblem track system written rexx util ispf dialogu panel resolv ituam collectorituam ameripriseapril  april projectproject descriptionprovid ituam applic support monitor usag data transmiss  ameripris endpointsand ituam applic server resolv ituam collector relat issu ameripris endpointsperform problem determin usag data transmiss relat issu resolv usag data transmissionrel issu work various support group resolv issu endpointsstaff softwar engineerafi meter solut project  boulder conovemb  march ameripris accountafi meter solut projectproject descriptiondevelop scriptsprogram use meter solut assign success thescriptsprogram util product environmentstaff softwar engineerumi cost recoveri  boulder coapril  august offer pilot customersumi cost recoveri offeringproject descriptionprovid umi applic support assist gtim support team global deploy teamin implement umi cost recoveri offer product environ assign wassuccess howev  month umi cost recoveri offer decommissionedsystem manag professionalumi infrastructur intern  boulder conovemb  march umi  upgradesproject descriptionassist global deploy team upgrad various umi compon meter gateway fehubhub db backend hub caa cla evid map engin etc umi infrastructur productionenviron assign success abl complet upgrad umi componentsment abov  bandwidth offer customersumibandwidth bill offeringproject descriptionprovid umi applic support assist gtim support team global deploy team inimpl umibandwidth bill offer product environ assign wassuccess umibandwidth bill offer still productionsystem manag professionalibm  boulder conovemb  februari lotus note web conferenc customersumiilwc offeringproject descript provid applic support umi univers manag infrastructur applic evid networkmet product ituam ibm tivoli usag account manag product perform st level pd onumi evid ituam relat issu isol problem applic part infrastructureresolv applic problem oper caus work level  support isol productintegr code problem instal patchesfix perform applic task recov lost missingdata maintain umi evid ituam softwar level verifi report avail sanitycheck datamanag meter data archiv per account busi rule assist account superus configur endus access report configur map verifi new data feed initi solut deploy writescript autom manual process perform support abov applic softwareautom focalrespons support demand data center servic odc organ responsibilitiesinclud identifi opportun autom develop implement plan drive plan completiona focal technic team requir implement autom well primari resourcefor autom develop effortachiev develop various use script umi applic evid develop various programsscriptsfor ituam meter solut ameripris instal configur ibm http server web server aix server use product controlweb site web site access daili franklin templeton ad client retriev controlm relat report design code implement perl script autom creation connect direct scriptswith script numer connect direct script creat matter minut mentionth accuraci creat script design code implement perlrexx script unix nt platform conjunct webbas frontend autom collectioncalculationreport adsm data three differentadsm server develop web site allow ibm global servic sdc  west nt unix system engineeringgroup submit week status report via web page store data relat databas withthi web site submit status report easili queri design code implement perlshellkornshel script provid need function thecontrolm implement current provid controlm productback tuam admin process month feedsibmmay  march   state texa accountproject descriptionassign work meter oper focal state texa account handl invoic discrepanciesreport busi offic troubleshoot resolv tuam product relat issu work othersupport group dbas sys admin network admin etc resolv issu affect tuamoper back tuam admin process month feed track report daili feedswork mainfram oper miss daili month feed adgel penalosasoftwar engin  ibmlongmont coemail inde indeedcomradgelpenalosaefbaeinform technolog specialist twentyeight year experi quick learner implementerof new idea excel problem troubleshooterresolv excel applic oper support providerexcel applic administr excel tester excel develop excel team player alwaysprovid world class servic customersauthor work us ani employerwork experiencesoftwar engineeribmapril  presentprovid tivoli usag account manag smart cloud cost manag tuamsccm l supportmainten raytheon billingdata warehous solut perform follow key activ ongo applic solut mainten support complex product problem cannot resolv oper deliveri team dubuquedeliv center small enhanc within bau scope solut architectur interfac ibm pmobil offic client communic neededglob asset configur manag data warehous gacdw  system engineeradminadminist infospher datastag qualitystag administ infospher chang data captur cdcperform nd level problem determin gacdw infrastructur relat issu perform dri run test allgacdw releas deploy preproduct environ deploy gacdw releas  fixpack  hotfixesto product environ monitor etl cdc job troubleshoot  resolv issu etl cdcjob develop maintain gacdw steadi state support intern websit provid level  db websphereappl server infospher administr support writemaintain intern custom script use foradminist gacdw compon provis server linux window  vmsbare metal server insoftlay environ use softlay custom portal instal linux updatespatchesparityservic enabl autom sea steadi state support  testerprovid steadi state support pariti sea tool perform st level pd pariti sea infrastructurerel issu troubleshoot resolv pariti sea client relat issu isol problem applicationpart infrastructur resolv applic problem oper caus work withdevelop isol productintegr code problem perform paritysea client upgrad perform paritysea diagserv upgrad perform function test pariti sea client agent sea front endperform test instal  uninstal packag strateg six pack tool manual via fsinstal tooland via sea front end develop perl  shell script use creat custom report customersdevelop misc perl  shell script use test activ monitor mass client upgradesand troubleshoot diagserv errorsissuestuamumi applic support specialist  ',\n",
       " 'global simul disc accret classic tauri star bp taurivari profil millisecond xray pulsar result pseudonewtonian threedimension magnetohydrodynam simulationsaccret magnet star rayleightaylor instabl global threedimension simulationsposs quasiperiod oscil unstabl accret mhd simulationsmeasur black hole spin continuumfit method effect deviat fromth novikovthorn disc modeladdit inform hobbi dure undergradu year develop fullfledg softwar program draw two threedimension graph arbitrari usersuppli mathemat function program includ equationpars gui interfac built visual basic support standard oper translat andzoom view  public  lead authorship peerreview journal recipi grant american astronom societi cornel univers conferencepresent teach assist two introductori astronomi cours cornel univers also involv someoutreach work foreign languag russian compet hindi marathi nativ troubleshoot communic skill academ write data analysi larg data set analyticalskil critic think skill multitask abil team player languag c fortran python perl bashlatex html javascript css platform gnulinux various distribut window   xp msdos highperform comput hpc system various nasa teragrid cluster hpcscientificsoftwar mpi openmp gnu scientif librari gsl minpack visual softwar tecplot pythonmatplotlib gnuplot comput fluid dynam cfd meshbas finitevolum godunovtyp codestim seri analysi intel gnu compil rsync lvm samba git subvers gnu makesom experi gui developmentlinkshttpwwwlinkedincominakkulkarniawardsvac student programm summer fellowship interunivers centr forastronomi astrophys pune india june graduat fellowship cornel univers graduat school graduat research assist fund nasa nsf cornel univers iau grant cornel univers graduat school confer grant contribut talkat iau symposium  grenobl franc may aa intern travel grant cornel univers graduat school conferencegr contribut talk amxp june publicationsd mhd simul disk accret rotat magnet star searchfor variabilitytorsion magnet oscil type xray burstsunst disk accret onto magnet star first global threedimensionalmagnetohydrodynam simulationsdiscoveri drift highfrequ quasiperiod oscil global simulationsof magnet boundari layersqpo emiss move hot spot surfac neutron star modelglob simul disc accret classic tauri star v oph  perform code scale test determin optim grid resourc util strategi rang ofclust architectur develop raytrac code c parallel openmp produc imag simul result wrote perl python bash script autom download analysi visual backup thesimul resultsgradu research assistantcornel univers  ithaca nyaugust  decemb  design carri  ever largescal simul plasma instabl around magnetizedstar particip code optim wrote inputoutput modul enabl code collect data parallel subprocess write itseri disk vice versa make data vast easier handl wrote program perform time seri analysi bright variat simul star set stereoscop visualizationanim system simul involv seamless integr ofperl python bash tecplot script complet transpar user also develop techniqu tomak dualprojector stereoscop present use htmljavascriptcss becam veri effect inpromot group research  conferencesteach assistantcornel univers  ithaca nyaugust  may led tutori section two introductori astronomi coursesgradu fellowcornel univers  ithaca nyaugust  august educationphd astronomycornel univers  ithaca nyjanuari  januari ms astronomycornel univers  ithaca nyjanuari  januari btech engin physicsindian institut technolog  mumbai maharashtrajanuari  januari skillsbig data analysi cloud servic autom test scientif research highperform computingparallel program scientif visual stereoscop visual system administr akshay kulkarnisoftwar develop engin test microsoftredmond waemail inde indeedcomrakshaykulkarnicf  year experi autom softwar test cloud servic big data analysi microsoft  year fulltim research experi harvard cornel design run massiv parallelastrophys simul analyz larg dataset versatil set program system administr skill abil work multipl project simultan see completioninterest solv challeng problem use skill solv interest challeng problemsus strong analyt comput skill strong background autom softwar testingcloud servic big data analysi objectori program  program highperformancecomputingwork experiencesoftwar develop engin testmicrosoft  redmond wafebruari  presentresponsibilitieshelp run microsoft account largescal cloud ident servic handl billion authent perday gateway microsoft consum offer perform big data analysi user telemetri microsoft account order detect prevent bad useract gain insight custom use servic valid servic functioningprop autom test machin learningbas system detect suspici user behavior drove test troubleshoot  code deliveri custom phone collabor thirdparti compani intern test team spread across multipl time zone contribut librari develop c autom test investig product issuesbug servic often work direct custom provid critic feedback dure softwar design phasepostdoctor research associateharvard univers  cambridg majanuari  present model gas  around black hole use massiv parallel supercomput simul  ',\n",
       " ' interview job applic direct control specif daytoday oper within station hub respons assign manag employe involv countri year budget assign develop new strategi account whole countri review sign countri expens work close fm gm  ceo week base discuss countri oper plan  itsprogresseducationmast managementcambridg academi higher educt  dubai bachelor engineeringbaghdadcertificationslicensessuppli chain manag present alan aldujailisuppli chain profession  mbavancouv waemail inde indeedcomralanaldujailifffdbwil reloc anywhereauthor work us ani employerwork experienceengineerhewlettpackard  vancouv bc octob consult  vancouv wa support softwar develop lifecycl sdlc collabor effort dure requirementsdevelop valid product rollout check daili progress staff use alm applic life style manag analyz requir transform manual autom test suit debug defect file crs defect perform technic test includ project conform test regress system test froma posit negat test perspect research defect includ technic log websit databas yield robust defectdocument handl ad hoc assign direct review analyz contribut busi function technic requir definit develop level effort estim develop test plan via vmware identifi analyz test scenario develop test project conform regress scriptssuit test execut manual autom fashion defect identif research detail document collabor product manag andsoftwar develop provid daili statist written updat test progress escal leadership ani unresolv issu time manner knowledg share supportbusi oper sale effort provid solut recommend polici procedur project profession mannerthat align depart strategi goal provid discuss week status report particip depart meet assign complet miscellan duti assignedmanagerfedex  baghdad iq june  baghdad iraq charg whole countri ground oper includ hiringfir hr financ budget relationsnetwork civil aviat author daili report gm use cosmos  ',\n",
       " 'skillsc  year java  year sql  yearsaddit informationskillscompetenciesprogram languag  cc c sql java powerbuild groovi teradatasoftwar develop  eclips visual studio sql server  object orient program alton walstonsoftwar engin  ibmraleigh ncemail inde indeedcomraltonwalstonaacadbecwil reloc anywhereauthor work us ani employerwork experiencesoftwar engineeribm  raleigh ncfebruari  presentdesign develop test ibm connect desktop plugin solut window client util c andwindow api develop execut autom test use googletest framework prototyp new connect develop base client requir ibm polici respons defect manag code clean code promot within continu deliverydevelop cycl coordin custom support team fix front line custom defect host month knowledg transfer custom support personnel new featur releas intoconnect pluginssoftwar engineercarmax  richmond vajun  februari maintain larg scale autom form system  carmax locat util sql script powerbuild  powerbuild  updat maintain data driven softwar talk direct busi offic associ understand need intern extern custom adapt form system increas effici legal complianc custom satisfact particip recruit interview colleg candid nc statedatabas internpeopleflu  raleigh ncaugust  may  hour week author transact sql script databas ticket  client util sql server  pivot ticket system sql keep ticket queue low assist creation store procedur script databas languag translationsjava develop internnorth carolina depart transportationmay  august full time internship use waterfal model develop addon ticket track system complet sql queri test databas analysi ctct sla report report addon platform complet thorough black box system test trac  system upgrad written c javaeducationbachelor scienc comput sciencenorth carolina state univers  raleigh ncmay   ']"
      ]
     },
     "execution_count": 25,
     "metadata": {},
     "output_type": "execute_result"
    }
   ],
   "source": [
    "X_train"
   ]
  },
  {
   "cell_type": "code",
   "execution_count": null,
   "metadata": {
    "collapsed": true
   },
   "outputs": [],
   "source": []
  }
 ],
 "metadata": {
  "kernelspec": {
   "display_name": "Python 3",
   "language": "python",
   "name": "python3"
  },
  "language_info": {
   "codemirror_mode": {
    "name": "ipython",
    "version": 3
   },
   "file_extension": ".py",
   "mimetype": "text/x-python",
   "name": "python",
   "nbconvert_exporter": "python",
   "pygments_lexer": "ipython3",
   "version": "3.6.0"
  }
 },
 "nbformat": 4,
 "nbformat_minor": 2
}
